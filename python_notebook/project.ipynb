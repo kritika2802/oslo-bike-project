{
 "cells": [
  {
   "cell_type": "code",
   "execution_count": 70,
   "id": "dc5562a6",
   "metadata": {
    "scrolled": false
   },
   "outputs": [
    {
     "ename": "SyntaxError",
     "evalue": "invalid syntax (<ipython-input-70-01f4e3897779>, line 8)",
     "output_type": "error",
     "traceback": [
      "\u001b[1;36m  File \u001b[1;32m\"<ipython-input-70-01f4e3897779>\"\u001b[1;36m, line \u001b[1;32m8\u001b[0m\n\u001b[1;33m    open('C:/Users/Abhishek/OneDrive/Desktop/Kritika/skyfri/' + file_name + '.csv', 'wb').write(response.content)           print(response.url + ' downloaded file with name ' + file_name + '.csv')\u001b[0m\n\u001b[1;37m                                                                                                                            ^\u001b[0m\n\u001b[1;31mSyntaxError\u001b[0m\u001b[1;31m:\u001b[0m invalid syntax\n"
     ]
    }
   ],
   "source": [
    "def download_files(url, file_name):\n",
    "    #This function accepts url and file_name as parameters.\n",
    "    #url from where we have to download the file (got from inspecting the element on page)\n",
    "    #file_name is the name you want to give to downloaded file on system\n",
    "    import requests\n",
    "    response = requests.get(url,allow_redirects=True)\n",
    "    if response.status_code == 200:\n",
    "        open('C:/Users/Abhishek/OneDrive/Desktop/Kritika/skyfri/' + file_name + '.csv', 'wb').write(response.content)           print(response.url + ' downloaded file with name ' + file_name + '.csv')\n",
    "    else:\n",
    "        print(response.url + ' - cannot be reached. Response code: ' + str(response.status_code))\n",
    "    "
   ]
  },
  {
   "cell_type": "code",
   "execution_count": 66,
   "id": "3054529d",
   "metadata": {},
   "outputs": [],
   "source": [
    "def read_all_files(path):\n",
    "    #Read the content of all the downloaded files from a local path\n",
    "    #Store the file contents into a single dataframe\n",
    "    import pandas as pd \n",
    "    import os \n",
    "    import glob\n",
    "    #Read all files present in folder\n",
    "    csv_files = glob.glob(os.path.join(path, '*.csv')) \n",
    "    dfs = []\n",
    "    #Create separate dataframe for each file and put in a list\n",
    "    for filename in csv_files:\n",
    "        dfs.append(pd.read_csv(filename))\n",
    "        \n",
    "    #Concat all DF's\n",
    "    big_frame = pd.concat(dfs, ignore_index=True)\n",
    "    return big_frame\n",
    "    \n",
    "        "
   ]
  },
  {
   "cell_type": "code",
   "execution_count": 2,
   "id": "ca0cd446",
   "metadata": {},
   "outputs": [
    {
     "name": "stdout",
     "output_type": "stream",
     "text": [
      "https://data.urbansharing.com/oslobysykkel.no/trips/v1/2022/01.csv downloaded file with name 2022_01.csv\n",
      "https://data.urbansharing.com/oslobysykkel.no/trips/v1/2023/01.csv downloaded file with name 2023_01.csv\n",
      "https://data.urbansharing.com/oslobysykkel.no/trips/v1/2022/02.csv downloaded file with name 2022_02.csv\n",
      "https://data.urbansharing.com/oslobysykkel.no/trips/v1/2023/02.csv downloaded file with name 2023_02.csv\n",
      "https://data.urbansharing.com/oslobysykkel.no/trips/v1/2022/03.csv downloaded file with name 2022_03.csv\n",
      "https://data.urbansharing.com/oslobysykkel.no/trips/v1/2023/03.csv downloaded file with name 2023_03.csv\n",
      "https://data.urbansharing.com/oslobysykkel.no/trips/v1/2022/04.csv downloaded file with name 2022_04.csv\n",
      "https://data.urbansharing.com/oslobysykkel.no/trips/v1/2023/04.csv downloaded file with name 2023_04.csv\n",
      "https://data.urbansharing.com/oslobysykkel.no/trips/v1/2022/05.csv downloaded file with name 2022_05.csv\n",
      "https://data.urbansharing.com/oslobysykkel.no/trips/v1/2023/05.csv downloaded file with name 2023_05.csv\n",
      "https://data.urbansharing.com/oslobysykkel.no/trips/v1/2022/06.csv downloaded file with name 2022_06.csv\n",
      "https://data.urbansharing.com/oslobysykkel.no/trips/v1/2023/06.csv downloaded file with name 2023_06.csv\n",
      "https://data.urbansharing.com/oslobysykkel.no/trips/v1/2022/07.csv downloaded file with name 2022_07.csv\n",
      "https://data.urbansharing.com/oslobysykkel.no/trips/v1/2023/07.csv downloaded file with name 2023_07.csv\n",
      "https://data.urbansharing.com/oslobysykkel.no/trips/v1/2022/08.csv downloaded file with name 2022_08.csv\n",
      "https://data.urbansharing.com/oslobysykkel.no/trips/v1/2023/08.csv downloaded file with name 2023_08.csv\n",
      "https://data.urbansharing.com/oslobysykkel.no/trips/v1/2022/09.csv downloaded file with name 2022_09.csv\n",
      "https://data.urbansharing.com/oslobysykkel.no/trips/v1/2023/09.csv downloaded file with name 2023_09.csv\n",
      "https://data.urbansharing.com/oslobysykkel.no/trips/v1/2022/10.csv downloaded file with name 2022_10.csv\n",
      "https://data.urbansharing.com/oslobysykkel.no/trips/v1/2023/10.csv downloaded file with name 2023_10.csv\n",
      "https://data.urbansharing.com/oslobysykkel.no/trips/v1/2022/11.csv downloaded file with name 2022_11.csv\n",
      "https://data.urbansharing.com/oslobysykkel.no/trips/v1/2023/11.csv downloaded file with name 2023_11.csv\n",
      "https://data.urbansharing.com/oslobysykkel.no/trips/v1/2022/12.csv downloaded file with name 2022_12.csv\n",
      "https://data.urbansharing.com/oslobysykkel.no/trips/v1/2023/12.csv - cannot be reached. Response code: 404\n"
     ]
    }
   ],
   "source": [
    "try:\n",
    "    for month in range(1,13):\n",
    "        #converting 1 to 01 for all simgle digit months\n",
    "        month = str(\"{:02d}\".format(month))\n",
    "        #creating url and downloading files to local\n",
    "        url_2022 = 'https://data.urbansharing.com/oslobysykkel.no/trips/v1/2022/'+month+'.csv'\n",
    "        download_files(url_2022, str('2022_'+ month))\n",
    "        url_2023 = 'https://data.urbansharing.com/oslobysykkel.no/trips/v1/2023/'+month+'.csv'\n",
    "        download_files(url_2023, str('2023_'+ month))\n",
    "        #creating df from all the downloaded files\n",
    "        df = read_all_files('C:/Users/Abhishek/OneDrive/Desktop/Kritika/skyfri/')\n",
    "        #replacing all the norwegian characters with near english characters\n",
    "        df_rem_nor = df.replace(['(?i)æ','(?i)ø','(?i)å','(?i)é'],['ae','oe','aa','ee'],regex=True)\n",
    "except Exception as e:\n",
    "    print(e)"
   ]
  },
  {
   "cell_type": "code",
   "execution_count": null,
   "id": "57597a62",
   "metadata": {},
   "outputs": [],
   "source": []
  },
  {
   "cell_type": "code",
   "execution_count": null,
   "id": "863d70ab",
   "metadata": {},
   "outputs": [],
   "source": []
  }
 ],
 "metadata": {
  "kernelspec": {
   "display_name": "Python 3",
   "language": "python",
   "name": "python3"
  },
  "language_info": {
   "codemirror_mode": {
    "name": "ipython",
    "version": 3
   },
   "file_extension": ".py",
   "mimetype": "text/x-python",
   "name": "python",
   "nbconvert_exporter": "python",
   "pygments_lexer": "ipython3",
   "version": "3.8.8"
  }
 },
 "nbformat": 4,
 "nbformat_minor": 5
}
